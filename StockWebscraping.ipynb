{
 "cells": [
  {
   "cell_type": "code",
   "execution_count": 1,
   "id": "fde21970",
   "metadata": {},
   "outputs": [],
   "source": [
    "#A notebook that gets daily closing prices, calculates log returns, alpha, beta, and Sharpe Ratio\n",
    "#TODO: Scrape earnings reports so we have some more graphs to work with\n",
    "import pandas as pd\n",
    "import numpy as np\n",
    "import yfinance as yf\n",
    "from sklearn.linear_model import LinearRegression\n",
    "import matplotlib.pyplot as plt\n",
    "%matplotlib inline "
   ]
  },
  {
   "cell_type": "code",
   "execution_count": 2,
   "id": "25ef76db",
   "metadata": {},
   "outputs": [],
   "source": [
    "def createDataFrame(stockList, startDate, endDate):\n",
    "    stockDataFrame = pd.DataFrame(columns = stockList)\n",
    "    for stock in stockList:\n",
    "        stockDataFrame[stock] = yf.download(stock, start=startDate, end=endDate, progress=False)['Close']\n",
    "    return stockDataFrame\n",
    "\n",
    "def logReturns(stockDataFrame):\n",
    "    for stock in stockDataFrame.columns:\n",
    "        stockDataFrame[stock] = np.log(stockDataFrame[stock]) - np.log(stockDataFrame[stock].shift(1))\n",
    "    stockDataFrame.dropna(inplace=True)\n",
    "    return stockDataFrame\n",
    "\n",
    "#We use rolling alpha, beta in this case. Comparing with the SP500 for linear regression\n",
    "def marketAlphaBeta(logReturnDF, benchmarkDF):\n",
    "    alphaDataFrame = pd.DataFrame(columns = logReturnDF.columns, index=logReturnDF.index)\n",
    "    betaDataFrame = pd.DataFrame(columns = logReturnDF.columns, index=logReturnDF.index)\n",
    "    obs = logReturnDF.shape[0]\n",
    "    lagWindow = 30\n",
    "    for i in range((obs-lagWindow)):\n",
    "        for stock in logReturnDF.columns:\n",
    "            regressor = LinearRegression()\n",
    "            regressor.fit(benchmarkDF['^GSPC'].to_numpy()[i : i +lagWindow+1].reshape(-1,1), logReturnDF[stock].to_numpy()[i : i +lagWindow+1])\n",
    "            betaDataFrame[stock][i+lagWindow]  = regressor.coef_[0]\n",
    "            alphaDataFrame[stock][i+lagWindow]  = regressor.intercept_\n",
    "    alphaDataFrame.dropna(inplace=True)\n",
    "    betaDataFrame.dropna(inplace=True)\n",
    "    return alphaDataFrame, betaDataFrame\n",
    "\n",
    "#We use rolling Sharpe ratio in this case. We use 10 year Treasury Note (^TNX) yield as \"risk-free\" rate\n",
    "def rollingSharpeRatio(logReturnDF, logBenchmark):\n",
    "    sharpeDataFrame = pd.DataFrame(columns = logReturnDF.columns, index = logReturnDF.index)\n",
    "    obs = logReturnDF.shape[0]\n",
    "    lagWindow = 60\n",
    "    for i in range((obs-lagWindow)):\n",
    "        for stock in logReturnDF.columns:\n",
    "            netReturn = logReturnDF[stock][i : i +lagWindow+1].mean() - logBenchmark['^TNX'][i : i +lagWindow+1].mean()\n",
    "            stdDev = logReturnDF[stock][i : i +lagWindow+1].std()\n",
    "            sharpeDataFrame[stock][i+lagWindow]  = netReturn/stdDev\n",
    "    sharpeDataFrame.dropna(inplace=True)\n",
    "    return sharpeDataFrame"
   ]
  },
  {
   "cell_type": "code",
   "execution_count": 3,
   "id": "76629b55",
   "metadata": {},
   "outputs": [],
   "source": [
    "#Variables that we can modify to get our data\n",
    "memeStocks = ['GME', 'AMC','BBBY','TLRY','PLTR','TSLA']\n",
    "benchmarks = ['^GSPC','^TNX']\n",
    "startDate = '2021-10-30'\n",
    "endDate = '2022-10-30'"
   ]
  },
  {
   "cell_type": "code",
   "execution_count": 4,
   "id": "e26ff80b",
   "metadata": {},
   "outputs": [],
   "source": [
    "#Run once variables are filled out\n",
    "newFrame = createDataFrame(memeStocks, startDate, endDate)\n",
    "newFrame.to_csv(\"stockPrices.csv\")\n",
    "benchmarkFrame = createDataFrame(benchmarks, startDate, endDate)\n",
    "benchmarkFrame.to_csv(\"benchmarkPrices.csv\")\n",
    "logDataFrame = logReturns(newFrame)\n",
    "logDataFrame.to_csv(\"logReturnsStock.csv\")\n",
    "logBenchmark = logReturns(benchmarkFrame)\n",
    "logBenchmark.to_csv(\"logReturnsBenchmark.csv\")\n",
    "alphaFrame, betaFrame = marketAlphaBeta(logDataFrame, logBenchmark)\n",
    "alphaFrame.to_csv(\"alphas.csv\")\n",
    "betaFrame.to_csv(\"betas.csv\")\n",
    "sharpeDataFrame = rollingSharpeRatio(logDataFrame, logBenchmark)\n",
    "sharpeDataFrame.to_csv(\"sharpeRatios.csv\")"
   ]
  },
  {
   "cell_type": "code",
   "execution_count": null,
   "id": "291b0526",
   "metadata": {},
   "outputs": [],
   "source": []
  }
 ],
 "metadata": {
  "kernelspec": {
   "display_name": "Python 3 (ipykernel)",
   "language": "python",
   "name": "python3"
  },
  "language_info": {
   "codemirror_mode": {
    "name": "ipython",
    "version": 3
   },
   "file_extension": ".py",
   "mimetype": "text/x-python",
   "name": "python",
   "nbconvert_exporter": "python",
   "pygments_lexer": "ipython3",
   "version": "3.9.7"
  }
 },
 "nbformat": 4,
 "nbformat_minor": 5
}
